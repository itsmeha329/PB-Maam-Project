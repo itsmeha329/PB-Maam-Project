{
 "cells": [
  {
   "cell_type": "code",
   "execution_count": 1,
   "id": "e462c926",
   "metadata": {},
   "outputs": [],
   "source": [
    "import numpy as np\n",
    "import pandas as pd\n",
    "from sklearn.neighbors import KNeighborsRegressor\n",
    "from sklearn.metrics import mean_squared_error\n",
    "from scipy.spatial import distance\n",
    "\n",
    "import matplotlib.pyplot as plt"
   ]
  },
  {
   "cell_type": "code",
   "execution_count": 2,
   "id": "3c802c44",
   "metadata": {},
   "outputs": [],
   "source": [
    "df = pd.read_csv(\"Reading Data.csv\")"
   ]
  },
  {
   "cell_type": "code",
   "execution_count": 3,
   "id": "a1c72e03",
   "metadata": {},
   "outputs": [],
   "source": [
    "df"
   ]
  },
  {
   "cell_type": "code",
   "execution_count": 4,
   "id": "fa08adc2",
   "metadata": {},
   "outputs": [],
   "source": [
    "train_df = df.iloc[:1]\n",
    "test_df = df.iloc[1:]\n",
    "\n",
    "X_train = train_df[['M', 'P']]\n",
    "sensor_columns = ['SENSOR 2']\n",
    "# sensor_columns = ['SENSOR 1', 'SENSOR 2', 'SENSOR 3', 'SENSOR 4', 'SENSOR 5', 'SENSOR 6', 'SENSOR 7', 'SENSOR 8']\n",
    "y_train = train_df[sensor_columns].values.ravel()\n",
    "\n",
    "X_test = test_df[['M', 'P']]\n",
    "y_test = test_df[sensor_columns].values.ravel()"
   ]
  },
  {
   "cell_type": "code",
   "execution_count": 5,
   "id": "b53fa1ff",
   "metadata": {},
   "outputs": [],
   "source": [
    "X_train"
   ]
  },
  {
   "cell_type": "code",
   "execution_count": 6,
   "id": "21c753b7",
   "metadata": {},
   "outputs": [],
   "source": [
    "# Apply Logistic Regression\n",
    "model = KNeighborsRegressor(n_neighbors=1)\n",
    "model.fit(X_train, y_train)"
   ]
  },
  {
   "cell_type": "code",
   "execution_count": 7,
   "id": "0d126cd1",
   "metadata": {},
   "outputs": [],
   "source": [
    "# Make predictions on the test set\n",
    "predictions = model.predict(X_test)\n",
    "print(predictions)\n",
    "mse = mean_squared_error(y_test, predictions)\n",
    "print(f\"Mean Squared Error: {mse}\")"
   ]
  },
  {
   "cell_type": "code",
   "execution_count": 8,
   "id": "3757dce5",
   "metadata": {},
   "outputs": [],
   "source": [
    "# # # Calculate Mahalanobis distance for each point\n",
    "cov_matrix = np.cov(X_train.values, rowvar=False)\n",
    "inv_cov_matrix = np.linalg.inv(cov_matrix)\n",
    "\n",
    "mahalanobis_distances = []\n",
    "for i in range(len(X_test)):\n",
    "    mahalanobis_distance = distance.mahalanobis(X_test.iloc[i], X_train.mean().values, inv_cov_matrix)\n",
    "     print(X_test.iloc[i], X_train.mean().values, mahalanobis_distance)\n",
    "     mahalanobis_distances.append(mahalanobis_distance)"
   ]
  },
  {
   "cell_type": "code",
   "execution_count": 9,
   "id": "a80ceeba",
   "metadata": {},
   "outputs": [],
   "source": [
    "# mahalanobis_distances"
   ]
  },
  {
   "cell_type": "code",
   "execution_count": null,
   "id": "9579a378",
   "metadata": {},
   "outputs": [],
   "source": []
  },
  {
   "cell_type": "code",
   "execution_count": null,
   "id": "2d99d454",
   "metadata": {},
   "outputs": [],
   "source": []
  },
  {
   "cell_type": "code",
   "execution_count": null,
   "id": "ccaa0059",
   "metadata": {},
   "outputs": [],
   "source": []
  },
  {
   "cell_type": "code",
   "execution_count": null,
   "id": "e82a06e7",
   "metadata": {},
   "outputs": [],
   "source": []
  },
  {
   "cell_type": "code",
   "execution_count": null,
   "id": "6c9ec85f",
   "metadata": {},
   "outputs": [],
   "source": []
  },
  {
   "cell_type": "code",
   "execution_count": null,
   "id": "d486740c",
   "metadata": {},
   "outputs": [],
   "source": []
  },
  {
   "cell_type": "code",
   "execution_count": null,
   "id": "2953fed3",
   "metadata": {},
   "outputs": [],
   "source": []
  }
 ],
 "metadata": {
  "kernelspec": {
   "display_name": "Python 3 (ipykernel)",
   "language": "python",
   "name": "python3"
  },
  "language_info": {
   "codemirror_mode": {
    "name": "ipython",
    "version": 3
   },
   "file_extension": ".py",
   "mimetype": "text/x-python",
   "name": "python",
   "nbconvert_exporter": "python",
   "pygments_lexer": "ipython3",
   "version": "3.11.3"
  }
 },
 "nbformat": 4,
 "nbformat_minor": 5
}
