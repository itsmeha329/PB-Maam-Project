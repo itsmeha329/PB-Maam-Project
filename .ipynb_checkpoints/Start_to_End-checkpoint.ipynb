{
 "cells": [
  {
   "cell_type": "code",
   "execution_count": 1,
   "id": "9bfc4ba6",
   "metadata": {},
   "outputs": [],
   "source": [
    "import numpy as np\n",
    "import pandas as pd"
   ]
  },
  {
   "cell_type": "code",
   "execution_count": 3,
   "id": "f094bbea",
   "metadata": {},
   "outputs": [],
   "source": [
    "df = pd.read_csv(\"SENSORDATA.csv\")"
   ]
  },
  {
   "cell_type": "code",
   "execution_count": 4,
   "id": "4c0bb6a4",
   "metadata": {},
   "outputs": [
    {
     "data": {
      "text/html": [
       "<div>\n",
       "<style scoped>\n",
       "    .dataframe tbody tr th:only-of-type {\n",
       "        vertical-align: middle;\n",
       "    }\n",
       "\n",
       "    .dataframe tbody tr th {\n",
       "        vertical-align: top;\n",
       "    }\n",
       "\n",
       "    .dataframe thead th {\n",
       "        text-align: right;\n",
       "    }\n",
       "</style>\n",
       "<table border=\"1\" class=\"dataframe\">\n",
       "  <thead>\n",
       "    <tr style=\"text-align: right;\">\n",
       "      <th></th>\n",
       "      <th>SENSOR 1</th>\n",
       "      <th>SENSOR 2</th>\n",
       "      <th>SENSOR 3</th>\n",
       "      <th>SENSOR 4</th>\n",
       "      <th>SENSOR 5</th>\n",
       "      <th>SENSOR 6</th>\n",
       "      <th>SENSOR 7</th>\n",
       "      <th>SENSOR 8</th>\n",
       "    </tr>\n",
       "  </thead>\n",
       "  <tbody>\n",
       "    <tr>\n",
       "      <th>0</th>\n",
       "      <td>2.794920</td>\n",
       "      <td>0.697810</td>\n",
       "      <td>3.28598</td>\n",
       "      <td>1.32697</td>\n",
       "      <td>0.28424</td>\n",
       "      <td>1.45367</td>\n",
       "      <td>0.58745</td>\n",
       "      <td>1.68367</td>\n",
       "    </tr>\n",
       "    <tr>\n",
       "      <th>1</th>\n",
       "      <td>0.101830</td>\n",
       "      <td>0.273910</td>\n",
       "      <td>0.39414</td>\n",
       "      <td>0.16561</td>\n",
       "      <td>0.51281</td>\n",
       "      <td>0.23676</td>\n",
       "      <td>0.37418</td>\n",
       "      <td>0.22437</td>\n",
       "    </tr>\n",
       "    <tr>\n",
       "      <th>2</th>\n",
       "      <td>0.133430</td>\n",
       "      <td>0.167670</td>\n",
       "      <td>0.53161</td>\n",
       "      <td>0.16116</td>\n",
       "      <td>0.29535</td>\n",
       "      <td>0.24654</td>\n",
       "      <td>0.48047</td>\n",
       "      <td>0.24632</td>\n",
       "    </tr>\n",
       "    <tr>\n",
       "      <th>3</th>\n",
       "      <td>0.148940</td>\n",
       "      <td>0.211170</td>\n",
       "      <td>0.50989</td>\n",
       "      <td>0.12105</td>\n",
       "      <td>0.64315</td>\n",
       "      <td>0.22343</td>\n",
       "      <td>0.86366</td>\n",
       "      <td>0.21249</td>\n",
       "    </tr>\n",
       "    <tr>\n",
       "      <th>4</th>\n",
       "      <td>0.116080</td>\n",
       "      <td>0.240250</td>\n",
       "      <td>0.61854</td>\n",
       "      <td>0.18683</td>\n",
       "      <td>0.01027</td>\n",
       "      <td>0.27455</td>\n",
       "      <td>0.55266</td>\n",
       "      <td>0.27851</td>\n",
       "    </tr>\n",
       "    <tr>\n",
       "      <th>5</th>\n",
       "      <td>0.152080</td>\n",
       "      <td>0.227370</td>\n",
       "      <td>0.35479</td>\n",
       "      <td>0.13890</td>\n",
       "      <td>0.50591</td>\n",
       "      <td>0.22563</td>\n",
       "      <td>0.77035</td>\n",
       "      <td>0.22878</td>\n",
       "    </tr>\n",
       "    <tr>\n",
       "      <th>6</th>\n",
       "      <td>0.125830</td>\n",
       "      <td>0.261160</td>\n",
       "      <td>0.15486</td>\n",
       "      <td>0.15486</td>\n",
       "      <td>0.35259</td>\n",
       "      <td>0.25379</td>\n",
       "      <td>0.40259</td>\n",
       "      <td>0.23382</td>\n",
       "    </tr>\n",
       "    <tr>\n",
       "      <th>7</th>\n",
       "      <td>0.076589</td>\n",
       "      <td>0.013710</td>\n",
       "      <td>0.51905</td>\n",
       "      <td>0.00638</td>\n",
       "      <td>10.37405</td>\n",
       "      <td>0.21229</td>\n",
       "      <td>6.78347</td>\n",
       "      <td>0.10782</td>\n",
       "    </tr>\n",
       "    <tr>\n",
       "      <th>8</th>\n",
       "      <td>0.050620</td>\n",
       "      <td>0.053050</td>\n",
       "      <td>0.12270</td>\n",
       "      <td>0.11408</td>\n",
       "      <td>3.60825</td>\n",
       "      <td>0.01303</td>\n",
       "      <td>2.70918</td>\n",
       "      <td>0.05253</td>\n",
       "    </tr>\n",
       "    <tr>\n",
       "      <th>9</th>\n",
       "      <td>0.062620</td>\n",
       "      <td>0.098064</td>\n",
       "      <td>0.06139</td>\n",
       "      <td>0.11710</td>\n",
       "      <td>2.11649</td>\n",
       "      <td>0.07130</td>\n",
       "      <td>1.59176</td>\n",
       "      <td>0.10966</td>\n",
       "    </tr>\n",
       "    <tr>\n",
       "      <th>10</th>\n",
       "      <td>0.038190</td>\n",
       "      <td>0.092150</td>\n",
       "      <td>0.24748</td>\n",
       "      <td>0.01603</td>\n",
       "      <td>2.33795</td>\n",
       "      <td>0.00597</td>\n",
       "      <td>0.86120</td>\n",
       "      <td>0.04735</td>\n",
       "    </tr>\n",
       "  </tbody>\n",
       "</table>\n",
       "</div>"
      ],
      "text/plain": [
       "    SENSOR 1  SENSOR 2  SENSOR 3  SENSOR 4  SENSOR 5  SENSOR 6  SENSOR 7  \\\n",
       "0   2.794920  0.697810   3.28598   1.32697   0.28424   1.45367   0.58745   \n",
       "1   0.101830  0.273910   0.39414   0.16561   0.51281   0.23676   0.37418   \n",
       "2   0.133430  0.167670   0.53161   0.16116   0.29535   0.24654   0.48047   \n",
       "3   0.148940  0.211170   0.50989   0.12105   0.64315   0.22343   0.86366   \n",
       "4   0.116080  0.240250   0.61854   0.18683   0.01027   0.27455   0.55266   \n",
       "5   0.152080  0.227370   0.35479   0.13890   0.50591   0.22563   0.77035   \n",
       "6   0.125830  0.261160   0.15486   0.15486   0.35259   0.25379   0.40259   \n",
       "7   0.076589  0.013710   0.51905   0.00638  10.37405   0.21229   6.78347   \n",
       "8   0.050620  0.053050   0.12270   0.11408   3.60825   0.01303   2.70918   \n",
       "9   0.062620  0.098064   0.06139   0.11710   2.11649   0.07130   1.59176   \n",
       "10  0.038190  0.092150   0.24748   0.01603   2.33795   0.00597   0.86120   \n",
       "\n",
       "    SENSOR 8  \n",
       "0    1.68367  \n",
       "1    0.22437  \n",
       "2    0.24632  \n",
       "3    0.21249  \n",
       "4    0.27851  \n",
       "5    0.22878  \n",
       "6    0.23382  \n",
       "7    0.10782  \n",
       "8    0.05253  \n",
       "9    0.10966  \n",
       "10   0.04735  "
      ]
     },
     "execution_count": 4,
     "metadata": {},
     "output_type": "execute_result"
    }
   ],
   "source": [
    "df\n"
   ]
  },
  {
   "cell_type": "code",
   "execution_count": 5,
   "id": "6a80d22d",
   "metadata": {},
   "outputs": [],
   "source": [
    "first_row = df.iloc[0]  # Selects the first row\n"
   ]
  },
  {
   "cell_type": "code",
   "execution_count": 38,
   "id": "e3bec789",
   "metadata": {},
   "outputs": [
    {
     "name": "stdout",
     "output_type": "stream",
     "text": [
      "SENSOR 1    0.10183\n",
      "SENSOR 2    0.27391\n",
      "SENSOR 3    0.39414\n",
      "SENSOR 4    0.16561\n",
      "SENSOR 5    0.51281\n",
      "SENSOR 6    0.23676\n",
      "SENSOR 7    0.37418\n",
      "SENSOR 8    0.22437\n",
      "Name: 1, dtype: float64\n"
     ]
    }
   ],
   "source": [
    "second_row = df.iloc[1]\n",
    "print(second_row)"
   ]
  },
  {
   "cell_type": "code",
   "execution_count": null,
   "id": "a8a10a1f",
   "metadata": {},
   "outputs": [],
   "source": []
  },
  {
   "cell_type": "code",
   "execution_count": 7,
   "id": "934b1688",
   "metadata": {},
   "outputs": [
    {
     "data": {
      "text/plain": [
       "SENSOR 1    2.79492\n",
       "SENSOR 2    0.69781\n",
       "SENSOR 3    3.28598\n",
       "SENSOR 4    1.32697\n",
       "SENSOR 5    0.28424\n",
       "SENSOR 6    1.45367\n",
       "SENSOR 7    0.58745\n",
       "SENSOR 8    1.68367\n",
       "Name: 0, dtype: float64"
      ]
     },
     "execution_count": 7,
     "metadata": {},
     "output_type": "execute_result"
    }
   ],
   "source": [
    "first_row   # shows the first row\n"
   ]
  },
  {
   "cell_type": "code",
   "execution_count": 9,
   "id": "334eff53",
   "metadata": {},
   "outputs": [],
   "source": [
    "data_array = first_row.to_numpy()  #changes the first row data from dataframe to numpy array"
   ]
  },
  {
   "cell_type": "code",
   "execution_count": 10,
   "id": "22c50425",
   "metadata": {},
   "outputs": [
    {
     "data": {
      "text/plain": [
       "array([2.79492, 0.69781, 3.28598, 1.32697, 0.28424, 1.45367, 0.58745,\n",
       "       1.68367])"
      ]
     },
     "execution_count": 10,
     "metadata": {},
     "output_type": "execute_result"
    }
   ],
   "source": [
    "data_array"
   ]
  },
  {
   "cell_type": "code",
   "execution_count": 13,
   "id": "7b0d0b10",
   "metadata": {},
   "outputs": [],
   "source": [
    "mean_val = np.mean(data_array)  #finds out the mean values of the first row data"
   ]
  },
  {
   "cell_type": "code",
   "execution_count": 14,
   "id": "32c21195",
   "metadata": {},
   "outputs": [
    {
     "data": {
      "text/plain": [
       "1.5143387499999998"
      ]
     },
     "execution_count": 14,
     "metadata": {},
     "output_type": "execute_result"
    }
   ],
   "source": [
    "mean_val "
   ]
  },
  {
   "cell_type": "code",
   "execution_count": 15,
   "id": "1e1827f6",
   "metadata": {},
   "outputs": [],
   "source": [
    "standard_dev = np.std(data_array)  #finds out the standard deviation"
   ]
  },
  {
   "cell_type": "code",
   "execution_count": 16,
   "id": "9174662a",
   "metadata": {},
   "outputs": [
    {
     "data": {
      "text/plain": [
       "0.9927894265456988"
      ]
     },
     "execution_count": 16,
     "metadata": {},
     "output_type": "execute_result"
    }
   ],
   "source": [
    "standard_dev"
   ]
  },
  {
   "cell_type": "code",
   "execution_count": 17,
   "id": "df03d1c1",
   "metadata": {},
   "outputs": [
    {
     "name": "stdout",
     "output_type": "stream",
     "text": [
      "[ 1.28058125 -0.81652875  1.77164125 -0.18736875 -1.23009875 -0.06066875\n",
      " -0.92688875  0.16933125]\n"
     ]
    }
   ],
   "source": [
    "normalized_data = data_array - mean_val      #normalising the data ubtracting the mean value of the data\n",
    "print(normalized_data)   "
   ]
  },
  {
   "cell_type": "code",
   "execution_count": 19,
   "id": "8b413618",
   "metadata": {},
   "outputs": [
    {
     "name": "stdout",
     "output_type": "stream",
     "text": [
      "[ 1.28988204 -0.82245915  1.78450858 -0.1887296  -1.23903289 -0.06110938\n",
      " -0.93362069  0.17056109]\n"
     ]
    }
   ],
   "source": [
    "standardized_data = normalized_data / standard_dev\n",
    "print(standardized_data)"
   ]
  },
  {
   "cell_type": "code",
   "execution_count": 20,
   "id": "d3ab0432",
   "metadata": {},
   "outputs": [],
   "source": [
    "import matplotlib.pyplot as plt"
   ]
  },
  {
   "cell_type": "code",
   "execution_count": 22,
   "id": "87ef21a7",
   "metadata": {},
   "outputs": [
    {
     "data": {
      "image/png": "[encoded data removed]",
      "text/plain": [
       "<Figure size 640x480 with 1 Axes>"
      ]
     },
     "metadata": {},
     "output_type": "display_data"
    }
   ],
   "source": [
    "# Create the plot\n",
    "plt.plot(first_row, standardized_data)\n",
    "\n",
    "# Add labels and title\n",
    "plt.xlabel(\"X-axis Label\")\n",
    "plt.ylabel(\"Y-axis Label\")\n",
    "plt.title(\"Line Chart Title\")\n",
    "\n",
    "# Show the plot\n",
    "plt.show()\n"
   ]
  },
  {
   "cell_type": "code",
   "execution_count": 26,
   "id": "7a33ae3d",
   "metadata": {},
   "outputs": [
    {
     "data": {
      "image/png": "[encoded data removed]",
      "text/plain": [
       "<Figure size 640x480 with 1 Axes>"
      ]
     },
     "metadata": {},
     "output_type": "display_data"
    }
   ],
   "source": [
    "plt.scatter(data_array, standardized_data)\n",
    "plt.show()\n"
   ]
  },
  {
   "cell_type": "code",
   "execution_count": 27,
   "id": "b17046a8",
   "metadata": {},
   "outputs": [
    {
     "data": {
      "text/plain": [
       "array([2.79492, 0.69781, 3.28598, 1.32697, 0.28424, 1.45367, 0.58745,\n",
       "       1.68367])"
      ]
     },
     "execution_count": 27,
     "metadata": {},
     "output_type": "execute_result"
    }
   ],
   "source": [
    "data_array"
   ]
  },
  {
   "cell_type": "code",
   "execution_count": 28,
   "id": "7fc94cb7",
   "metadata": {},
   "outputs": [
    {
     "data": {
      "text/plain": [
       "array([ 1.28988204, -0.82245915,  1.78450858, -0.1887296 , -1.23903289,\n",
       "       -0.06110938, -0.93362069,  0.17056109])"
      ]
     },
     "execution_count": 28,
     "metadata": {},
     "output_type": "execute_result"
    }
   ],
   "source": [
    "standardized_data"
   ]
  },
  {
   "cell_type": "code",
   "execution_count": 32,
   "id": "dc7016fe",
   "metadata": {},
   "outputs": [
    {
     "data": {
      "image/png": "[encoded data removed]",
      "text/plain": [
       "<Figure size 640x480 with 1 Axes>"
      ]
     },
     "metadata": {},
     "output_type": "display_data"
    }
   ],
   "source": [
    "\n",
    "\n",
    "# Define categories for the x-axis\n",
    "categories = [\"1\", \"2\", \"3\", \"4\", \"5\", \"6\", \"7\", \"8\"]\n",
    "\n",
    "# Set bar width\n",
    "bar_width = 0.35\n",
    "\n",
    "# Create the bar chart\n",
    "plt.bar(categories, data_array, width=bar_width, label=\"Dataset 1\")\n",
    "numerical_categories = [i for i, _ in enumerate(categories)]\n",
    "plt.bar([x + bar_width for x in numerical_categories], standardized_data, width=bar_width, label=\"Dataset 2\")\n",
    "\n",
    "# Add labels and title\n",
    "plt.xlabel(\"Categories\")\n",
    "plt.ylabel(\"Values\")\n",
    "plt.title(\"Comparison of Two Datasets\")\n",
    "\n",
    "# Add legend\n",
    "plt.legend()\n",
    "\n",
    "# Show the plot\n",
    "plt.show()\n"
   ]
  },
  {
   "cell_type": "code",
   "execution_count": 37,
   "id": "6c6a3fb9",
   "metadata": {},
   "outputs": [
    {
     "name": "stdout",
     "output_type": "stream",
     "text": [
      "    SENSOR 1  SENSOR 2  SENSOR 3  SENSOR 4  SENSOR 5  SENSOR 6  SENSOR 7  \\\n",
      "1   0.101830  0.273910   0.39414   0.16561   0.51281   0.23676   0.37418   \n",
      "2   0.133430  0.167670   0.53161   0.16116   0.29535   0.24654   0.48047   \n",
      "3   0.148940  0.211170   0.50989   0.12105   0.64315   0.22343   0.86366   \n",
      "4   0.116080  0.240250   0.61854   0.18683   0.01027   0.27455   0.55266   \n",
      "5   0.152080  0.227370   0.35479   0.13890   0.50591   0.22563   0.77035   \n",
      "6   0.125830  0.261160   0.15486   0.15486   0.35259   0.25379   0.40259   \n",
      "7   0.076589  0.013710   0.51905   0.00638  10.37405   0.21229   6.78347   \n",
      "8   0.050620  0.053050   0.12270   0.11408   3.60825   0.01303   2.70918   \n",
      "9   0.062620  0.098064   0.06139   0.11710   2.11649   0.07130   1.59176   \n",
      "10  0.038190  0.092150   0.24748   0.01603   2.33795   0.00597   0.86120   \n",
      "\n",
      "    SENSOR 8  \n",
      "1    0.22437  \n",
      "2    0.24632  \n",
      "3    0.21249  \n",
      "4    0.27851  \n",
      "5    0.22878  \n",
      "6    0.23382  \n",
      "7    0.10782  \n",
      "8    0.05253  \n",
      "9    0.10966  \n",
      "10   0.04735  \n"
     ]
    }
   ],
   "source": [
    "df_without_first_row = df.iloc[1:]  # Select rows from index 1 onwards\n",
    "print(df_without_first_row)"
   ]
  },
  {
   "cell_type": "code",
   "execution_count": 39,
   "id": "cc6f6ce0",
   "metadata": {},
   "outputs": [
    {
     "ename": "ValueError",
     "evalue": "Expected 2D array, got 1D array instead:\narray=[0.10183 0.22437 0.39414 0.51281 0.16561 0.37418].\nReshape your data either using array.reshape(-1, 1) if your data has a single feature or array.reshape(1, -1) if it contains a single sample.",
     "output_type": "error",
     "traceback": [
      "\u001b[1;31m---------------------------------------------------------------------------\u001b[0m",
      "\u001b[1;31mValueError\u001b[0m                                Traceback (most recent call last)",
      "Cell \u001b[1;32mIn[39], line 15\u001b[0m\n\u001b[0;32m     12\u001b[0m clf \u001b[38;5;241m=\u001b[39m RandomForestClassifier(n_estimators\u001b[38;5;241m=\u001b[39m\u001b[38;5;241m100\u001b[39m, random_state\u001b[38;5;241m=\u001b[39m\u001b[38;5;241m42\u001b[39m)  \u001b[38;5;66;03m# Adjust hyperparameters as needed\u001b[39;00m\n\u001b[0;32m     14\u001b[0m \u001b[38;5;66;03m# 4. Train the model\u001b[39;00m\n\u001b[1;32m---> 15\u001b[0m \u001b[43mclf\u001b[49m\u001b[38;5;241;43m.\u001b[39;49m\u001b[43mfit\u001b[49m\u001b[43m(\u001b[49m\u001b[43mX_train\u001b[49m\u001b[43m,\u001b[49m\u001b[43m \u001b[49m\u001b[43my_train\u001b[49m\u001b[43m)\u001b[49m\n\u001b[0;32m     17\u001b[0m \u001b[38;5;66;03m# 5. Make predictions on the testing set\u001b[39;00m\n\u001b[0;32m     18\u001b[0m y_pred \u001b[38;5;241m=\u001b[39m clf\u001b[38;5;241m.\u001b[39mpredict(X_test)\n",
      "File \u001b[1;32m~\\AppData\\Local\\Programs\\Python\\Python311\\Lib\\site-packages\\sklearn\\base.py:1151\u001b[0m, in \u001b[0;36m_fit_context.<locals>.decorator.<locals>.wrapper\u001b[1;34m(estimator, *args, **kwargs)\u001b[0m\n\u001b[0;32m   1144\u001b[0m     estimator\u001b[38;5;241m.\u001b[39m_validate_params()\n\u001b[0;32m   1146\u001b[0m \u001b[38;5;28;01mwith\u001b[39;00m config_context(\n\u001b[0;32m   1147\u001b[0m     skip_parameter_validation\u001b[38;5;241m=\u001b[39m(\n\u001b[0;32m   1148\u001b[0m         prefer_skip_nested_validation \u001b[38;5;129;01mor\u001b[39;00m global_skip_validation\n\u001b[0;32m   1149\u001b[0m     )\n\u001b[0;32m   1150\u001b[0m ):\n\u001b[1;32m-> 1151\u001b[0m     \u001b[38;5;28;01mreturn\u001b[39;00m \u001b[43mfit_method\u001b[49m\u001b[43m(\u001b[49m\u001b[43mestimator\u001b[49m\u001b[43m,\u001b[49m\u001b[43m \u001b[49m\u001b[38;5;241;43m*\u001b[39;49m\u001b[43margs\u001b[49m\u001b[43m,\u001b[49m\u001b[43m \u001b[49m\u001b[38;5;241;43m*\u001b[39;49m\u001b[38;5;241;43m*\u001b[39;49m\u001b[43mkwargs\u001b[49m\u001b[43m)\u001b[49m\n",
      "File \u001b[1;32m~\\AppData\\Local\\Programs\\Python\\Python311\\Lib\\site-packages\\sklearn\\ensemble\\_forest.py:348\u001b[0m, in \u001b[0;36mBaseForest.fit\u001b[1;34m(self, X, y, sample_weight)\u001b[0m\n\u001b[0;32m    346\u001b[0m \u001b[38;5;28;01mif\u001b[39;00m issparse(y):\n\u001b[0;32m    347\u001b[0m     \u001b[38;5;28;01mraise\u001b[39;00m \u001b[38;5;167;01mValueError\u001b[39;00m(\u001b[38;5;124m\"\u001b[39m\u001b[38;5;124msparse multilabel-indicator for y is not supported.\u001b[39m\u001b[38;5;124m\"\u001b[39m)\n\u001b[1;32m--> 348\u001b[0m X, y \u001b[38;5;241m=\u001b[39m \u001b[38;5;28;43mself\u001b[39;49m\u001b[38;5;241;43m.\u001b[39;49m\u001b[43m_validate_data\u001b[49m\u001b[43m(\u001b[49m\n\u001b[0;32m    349\u001b[0m \u001b[43m    \u001b[49m\u001b[43mX\u001b[49m\u001b[43m,\u001b[49m\u001b[43m \u001b[49m\u001b[43my\u001b[49m\u001b[43m,\u001b[49m\u001b[43m \u001b[49m\u001b[43mmulti_output\u001b[49m\u001b[38;5;241;43m=\u001b[39;49m\u001b[38;5;28;43;01mTrue\u001b[39;49;00m\u001b[43m,\u001b[49m\u001b[43m \u001b[49m\u001b[43maccept_sparse\u001b[49m\u001b[38;5;241;43m=\u001b[39;49m\u001b[38;5;124;43m\"\u001b[39;49m\u001b[38;5;124;43mcsc\u001b[39;49m\u001b[38;5;124;43m\"\u001b[39;49m\u001b[43m,\u001b[49m\u001b[43m \u001b[49m\u001b[43mdtype\u001b[49m\u001b[38;5;241;43m=\u001b[39;49m\u001b[43mDTYPE\u001b[49m\n\u001b[0;32m    350\u001b[0m \u001b[43m\u001b[49m\u001b[43m)\u001b[49m\n\u001b[0;32m    351\u001b[0m \u001b[38;5;28;01mif\u001b[39;00m sample_weight \u001b[38;5;129;01mis\u001b[39;00m \u001b[38;5;129;01mnot\u001b[39;00m \u001b[38;5;28;01mNone\u001b[39;00m:\n\u001b[0;32m    352\u001b[0m     sample_weight \u001b[38;5;241m=\u001b[39m _check_sample_weight(sample_weight, X)\n",
      "File \u001b[1;32m~\\AppData\\Local\\Programs\\Python\\Python311\\Lib\\site-packages\\sklearn\\base.py:621\u001b[0m, in \u001b[0;36mBaseEstimator._validate_data\u001b[1;34m(self, X, y, reset, validate_separately, cast_to_ndarray, **check_params)\u001b[0m\n\u001b[0;32m    619\u001b[0m         y \u001b[38;5;241m=\u001b[39m check_array(y, input_name\u001b[38;5;241m=\u001b[39m\u001b[38;5;124m\"\u001b[39m\u001b[38;5;124my\u001b[39m\u001b[38;5;124m\"\u001b[39m, \u001b[38;5;241m*\u001b[39m\u001b[38;5;241m*\u001b[39mcheck_y_params)\n\u001b[0;32m    620\u001b[0m     \u001b[38;5;28;01melse\u001b[39;00m:\n\u001b[1;32m--> 621\u001b[0m         X, y \u001b[38;5;241m=\u001b[39m \u001b[43mcheck_X_y\u001b[49m\u001b[43m(\u001b[49m\u001b[43mX\u001b[49m\u001b[43m,\u001b[49m\u001b[43m \u001b[49m\u001b[43my\u001b[49m\u001b[43m,\u001b[49m\u001b[43m \u001b[49m\u001b[38;5;241;43m*\u001b[39;49m\u001b[38;5;241;43m*\u001b[39;49m\u001b[43mcheck_params\u001b[49m\u001b[43m)\u001b[49m\n\u001b[0;32m    622\u001b[0m     out \u001b[38;5;241m=\u001b[39m X, y\n\u001b[0;32m    624\u001b[0m \u001b[38;5;28;01mif\u001b[39;00m \u001b[38;5;129;01mnot\u001b[39;00m no_val_X \u001b[38;5;129;01mand\u001b[39;00m check_params\u001b[38;5;241m.\u001b[39mget(\u001b[38;5;124m\"\u001b[39m\u001b[38;5;124mensure_2d\u001b[39m\u001b[38;5;124m\"\u001b[39m, \u001b[38;5;28;01mTrue\u001b[39;00m):\n",
      "File \u001b[1;32m~\\AppData\\Local\\Programs\\Python\\Python311\\Lib\\site-packages\\sklearn\\utils\\validation.py:1147\u001b[0m, in \u001b[0;36mcheck_X_y\u001b[1;34m(X, y, accept_sparse, accept_large_sparse, dtype, order, copy, force_all_finite, ensure_2d, allow_nd, multi_output, ensure_min_samples, ensure_min_features, y_numeric, estimator)\u001b[0m\n\u001b[0;32m   1142\u001b[0m         estimator_name \u001b[38;5;241m=\u001b[39m _check_estimator_name(estimator)\n\u001b[0;32m   1143\u001b[0m     \u001b[38;5;28;01mraise\u001b[39;00m \u001b[38;5;167;01mValueError\u001b[39;00m(\n\u001b[0;32m   1144\u001b[0m         \u001b[38;5;124mf\u001b[39m\u001b[38;5;124m\"\u001b[39m\u001b[38;5;132;01m{\u001b[39;00mestimator_name\u001b[38;5;132;01m}\u001b[39;00m\u001b[38;5;124m requires y to be passed, but the target y is None\u001b[39m\u001b[38;5;124m\"\u001b[39m\n\u001b[0;32m   1145\u001b[0m     )\n\u001b[1;32m-> 1147\u001b[0m X \u001b[38;5;241m=\u001b[39m \u001b[43mcheck_array\u001b[49m\u001b[43m(\u001b[49m\n\u001b[0;32m   1148\u001b[0m \u001b[43m    \u001b[49m\u001b[43mX\u001b[49m\u001b[43m,\u001b[49m\n\u001b[0;32m   1149\u001b[0m \u001b[43m    \u001b[49m\u001b[43maccept_sparse\u001b[49m\u001b[38;5;241;43m=\u001b[39;49m\u001b[43maccept_sparse\u001b[49m\u001b[43m,\u001b[49m\n\u001b[0;32m   1150\u001b[0m \u001b[43m    \u001b[49m\u001b[43maccept_large_sparse\u001b[49m\u001b[38;5;241;43m=\u001b[39;49m\u001b[43maccept_large_sparse\u001b[49m\u001b[43m,\u001b[49m\n\u001b[0;32m   1151\u001b[0m \u001b[43m    \u001b[49m\u001b[43mdtype\u001b[49m\u001b[38;5;241;43m=\u001b[39;49m\u001b[43mdtype\u001b[49m\u001b[43m,\u001b[49m\n\u001b[0;32m   1152\u001b[0m \u001b[43m    \u001b[49m\u001b[43morder\u001b[49m\u001b[38;5;241;43m=\u001b[39;49m\u001b[43morder\u001b[49m\u001b[43m,\u001b[49m\n\u001b[0;32m   1153\u001b[0m \u001b[43m    \u001b[49m\u001b[43mcopy\u001b[49m\u001b[38;5;241;43m=\u001b[39;49m\u001b[43mcopy\u001b[49m\u001b[43m,\u001b[49m\n\u001b[0;32m   1154\u001b[0m \u001b[43m    \u001b[49m\u001b[43mforce_all_finite\u001b[49m\u001b[38;5;241;43m=\u001b[39;49m\u001b[43mforce_all_finite\u001b[49m\u001b[43m,\u001b[49m\n\u001b[0;32m   1155\u001b[0m \u001b[43m    \u001b[49m\u001b[43mensure_2d\u001b[49m\u001b[38;5;241;43m=\u001b[39;49m\u001b[43mensure_2d\u001b[49m\u001b[43m,\u001b[49m\n\u001b[0;32m   1156\u001b[0m \u001b[43m    \u001b[49m\u001b[43mallow_nd\u001b[49m\u001b[38;5;241;43m=\u001b[39;49m\u001b[43mallow_nd\u001b[49m\u001b[43m,\u001b[49m\n\u001b[0;32m   1157\u001b[0m \u001b[43m    \u001b[49m\u001b[43mensure_min_samples\u001b[49m\u001b[38;5;241;43m=\u001b[39;49m\u001b[43mensure_min_samples\u001b[49m\u001b[43m,\u001b[49m\n\u001b[0;32m   1158\u001b[0m \u001b[43m    \u001b[49m\u001b[43mensure_min_features\u001b[49m\u001b[38;5;241;43m=\u001b[39;49m\u001b[43mensure_min_features\u001b[49m\u001b[43m,\u001b[49m\n\u001b[0;32m   1159\u001b[0m \u001b[43m    \u001b[49m\u001b[43mestimator\u001b[49m\u001b[38;5;241;43m=\u001b[39;49m\u001b[43mestimator\u001b[49m\u001b[43m,\u001b[49m\n\u001b[0;32m   1160\u001b[0m \u001b[43m    \u001b[49m\u001b[43minput_name\u001b[49m\u001b[38;5;241;43m=\u001b[39;49m\u001b[38;5;124;43m\"\u001b[39;49m\u001b[38;5;124;43mX\u001b[39;49m\u001b[38;5;124;43m\"\u001b[39;49m\u001b[43m,\u001b[49m\n\u001b[0;32m   1161\u001b[0m \u001b[43m\u001b[49m\u001b[43m)\u001b[49m\n\u001b[0;32m   1163\u001b[0m y \u001b[38;5;241m=\u001b[39m _check_y(y, multi_output\u001b[38;5;241m=\u001b[39mmulti_output, y_numeric\u001b[38;5;241m=\u001b[39my_numeric, estimator\u001b[38;5;241m=\u001b[39mestimator)\n\u001b[0;32m   1165\u001b[0m check_consistent_length(X, y)\n",
      "File \u001b[1;32m~\\AppData\\Local\\Programs\\Python\\Python311\\Lib\\site-packages\\sklearn\\utils\\validation.py:940\u001b[0m, in \u001b[0;36mcheck_array\u001b[1;34m(array, accept_sparse, accept_large_sparse, dtype, order, copy, force_all_finite, ensure_2d, allow_nd, ensure_min_samples, ensure_min_features, estimator, input_name)\u001b[0m\n\u001b[0;32m    938\u001b[0m     \u001b[38;5;66;03m# If input is 1D raise error\u001b[39;00m\n\u001b[0;32m    939\u001b[0m     \u001b[38;5;28;01mif\u001b[39;00m array\u001b[38;5;241m.\u001b[39mndim \u001b[38;5;241m==\u001b[39m \u001b[38;5;241m1\u001b[39m:\n\u001b[1;32m--> 940\u001b[0m         \u001b[38;5;28;01mraise\u001b[39;00m \u001b[38;5;167;01mValueError\u001b[39;00m(\n\u001b[0;32m    941\u001b[0m             \u001b[38;5;124m\"\u001b[39m\u001b[38;5;124mExpected 2D array, got 1D array instead:\u001b[39m\u001b[38;5;130;01m\\n\u001b[39;00m\u001b[38;5;124marray=\u001b[39m\u001b[38;5;132;01m{}\u001b[39;00m\u001b[38;5;124m.\u001b[39m\u001b[38;5;130;01m\\n\u001b[39;00m\u001b[38;5;124m\"\u001b[39m\n\u001b[0;32m    942\u001b[0m             \u001b[38;5;124m\"\u001b[39m\u001b[38;5;124mReshape your data either using array.reshape(-1, 1) if \u001b[39m\u001b[38;5;124m\"\u001b[39m\n\u001b[0;32m    943\u001b[0m             \u001b[38;5;124m\"\u001b[39m\u001b[38;5;124myour data has a single feature or array.reshape(1, -1) \u001b[39m\u001b[38;5;124m\"\u001b[39m\n\u001b[0;32m    944\u001b[0m             \u001b[38;5;124m\"\u001b[39m\u001b[38;5;124mif it contains a single sample.\u001b[39m\u001b[38;5;124m\"\u001b[39m\u001b[38;5;241m.\u001b[39mformat(array)\n\u001b[0;32m    945\u001b[0m         )\n\u001b[0;32m    947\u001b[0m \u001b[38;5;28;01mif\u001b[39;00m dtype_numeric \u001b[38;5;129;01mand\u001b[39;00m \u001b[38;5;28mhasattr\u001b[39m(array\u001b[38;5;241m.\u001b[39mdtype, \u001b[38;5;124m\"\u001b[39m\u001b[38;5;124mkind\u001b[39m\u001b[38;5;124m\"\u001b[39m) \u001b[38;5;129;01mand\u001b[39;00m array\u001b[38;5;241m.\u001b[39mdtype\u001b[38;5;241m.\u001b[39mkind \u001b[38;5;129;01min\u001b[39;00m \u001b[38;5;124m\"\u001b[39m\u001b[38;5;124mUSV\u001b[39m\u001b[38;5;124m\"\u001b[39m:\n\u001b[0;32m    948\u001b[0m     \u001b[38;5;28;01mraise\u001b[39;00m \u001b[38;5;167;01mValueError\u001b[39;00m(\n\u001b[0;32m    949\u001b[0m         \u001b[38;5;124m\"\u001b[39m\u001b[38;5;124mdtype=\u001b[39m\u001b[38;5;124m'\u001b[39m\u001b[38;5;124mnumeric\u001b[39m\u001b[38;5;124m'\u001b[39m\u001b[38;5;124m is not compatible with arrays of bytes/strings.\u001b[39m\u001b[38;5;124m\"\u001b[39m\n\u001b[0;32m    950\u001b[0m         \u001b[38;5;124m\"\u001b[39m\u001b[38;5;124mConvert your data to numeric values explicitly instead.\u001b[39m\u001b[38;5;124m\"\u001b[39m\n\u001b[0;32m    951\u001b[0m     )\n",
      "\u001b[1;31mValueError\u001b[0m: Expected 2D array, got 1D array instead:\narray=[0.10183 0.22437 0.39414 0.51281 0.16561 0.37418].\nReshape your data either using array.reshape(-1, 1) if your data has a single feature or array.reshape(1, -1) if it contains a single sample."
     ]
    }
   ],
   "source": [
    "from sklearn.ensemble import RandomForestClassifier\n",
    "from sklearn.model_selection import train_test_split\n",
    "\n",
    "# 1. Load your dataset\n",
    "X = (second_row)  # Replace with your feature data\n",
    "y = (data_array)  # Replace with your target labels\n",
    "\n",
    "# 2. Split data into training and testing sets\n",
    "X_train, X_test, y_train, y_test = train_test_split(X, y, test_size=0.2, random_state=42)\n",
    "\n",
    "# 3. Create a Random Forest classifier\n",
    "clf = RandomForestClassifier(n_estimators=100, random_state=42)  # Adjust hyperparameters as needed\n",
    "\n",
    "# 4. Train the model\n",
    "clf.fit(X_train, y_train)\n",
    "\n",
    "# 5. Make predictions on the testing set\n",
    "y_pred = clf.predict(X_test)\n",
    "\n",
    "# 6. Evaluate model performance\n",
    "accuracy = clf.score(X_test, y_test)\n",
    "print(\"Accuracy:\", accuracy)\n",
    "\n",
    "# 7. Additional steps (optional)\n",
    "# - Use cross-validation for more robust evaluation\n",
    "# - Tune hyperparameters to optimize performance\n",
    "# - Explore feature importances to understand model behavior\n"
   ]
  },
  {
   "cell_type": "code",
   "execution_count": null,
   "id": "d123c743",
   "metadata": {},
   "outputs": [],
   "source": []
  }
 ],
 "metadata": {
  "kernelspec": {
   "display_name": "Python 3 (ipykernel)",
   "language": "python",
   "name": "python3"
  },
  "language_info": {
   "codemirror_mode": {
    "name": "ipython",
    "version": 3
   },
   "file_extension": ".py",
   "mimetype": "text/x-python",
   "name": "python",
   "nbconvert_exporter": "python",
   "pygments_lexer": "ipython3",
   "version": "3.11.3"
  }
 },
 "nbformat": 4,
 "nbformat_minor": 5
}
