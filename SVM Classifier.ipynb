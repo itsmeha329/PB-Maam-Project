{
 "cells": [
  {
   "cell_type": "code",
   "execution_count": 1,
   "id": "17f1d187",
   "metadata": {},
   "outputs": [],
   "source": [
    "import numpy as np\n",
    "import pandas as pd\n",
    "from sklearn.model_selection import train_test_split\n",
    "from sklearn.svm import SVR\n",
    "from sklearn.metrics import mean_squared_error\n",
    "from scipy.spatial import distance"
   ]
  },
  {
   "cell_type": "code",
   "execution_count": 2,
   "id": "f76e8d44",
   "metadata": {},
   "outputs": [],
   "source": [
    "df = pd.read_csv(\"Reading Data.csv\")"
   ]
  },
  {
   "cell_type": "code",
   "execution_count": 3,
   "id": "de60b7a6",
   "metadata": {},
   "outputs": [
    {
     "data": {
      "text/html": [
       "<div>\n",
       "<style scoped>\n",
       "    .dataframe tbody tr th:only-of-type {\n",
       "        vertical-align: middle;\n",
       "    }\n",
       "\n",
       "    .dataframe tbody tr th {\n",
       "        vertical-align: top;\n",
       "    }\n",
       "\n",
       "    .dataframe thead th {\n",
       "        text-align: right;\n",
       "    }\n",
       "</style>\n",
       "<table border=\"1\" class=\"dataframe\">\n",
       "  <thead>\n",
       "    <tr style=\"text-align: right;\">\n",
       "      <th></th>\n",
       "      <th>M</th>\n",
       "      <th>P</th>\n",
       "      <th>SENSOR 1</th>\n",
       "      <th>SENSOR 2</th>\n",
       "      <th>SENSOR 3</th>\n",
       "      <th>SENSOR 4</th>\n",
       "      <th>SENSOR 5</th>\n",
       "      <th>SENSOR 6</th>\n",
       "      <th>SENSOR 7</th>\n",
       "      <th>SENSOR 8</th>\n",
       "    </tr>\n",
       "  </thead>\n",
       "  <tbody>\n",
       "    <tr>\n",
       "      <th>0</th>\n",
       "      <td>100</td>\n",
       "      <td>0</td>\n",
       "      <td>2.794920</td>\n",
       "      <td>0.697810</td>\n",
       "      <td>3.28598</td>\n",
       "      <td>1.32697</td>\n",
       "      <td>0.28424</td>\n",
       "      <td>1.45367</td>\n",
       "      <td>0.58745</td>\n",
       "      <td>1.68367</td>\n",
       "    </tr>\n",
       "    <tr>\n",
       "      <th>1</th>\n",
       "      <td>98</td>\n",
       "      <td>2</td>\n",
       "      <td>0.101830</td>\n",
       "      <td>0.273910</td>\n",
       "      <td>0.39414</td>\n",
       "      <td>0.16561</td>\n",
       "      <td>0.51281</td>\n",
       "      <td>0.23676</td>\n",
       "      <td>0.37418</td>\n",
       "      <td>0.22437</td>\n",
       "    </tr>\n",
       "    <tr>\n",
       "      <th>2</th>\n",
       "      <td>96</td>\n",
       "      <td>4</td>\n",
       "      <td>0.133430</td>\n",
       "      <td>0.167670</td>\n",
       "      <td>0.53161</td>\n",
       "      <td>0.16116</td>\n",
       "      <td>0.29535</td>\n",
       "      <td>0.24654</td>\n",
       "      <td>0.48047</td>\n",
       "      <td>0.24632</td>\n",
       "    </tr>\n",
       "    <tr>\n",
       "      <th>3</th>\n",
       "      <td>95</td>\n",
       "      <td>5</td>\n",
       "      <td>0.148940</td>\n",
       "      <td>0.211170</td>\n",
       "      <td>0.50989</td>\n",
       "      <td>0.12105</td>\n",
       "      <td>0.64315</td>\n",
       "      <td>0.22343</td>\n",
       "      <td>0.86366</td>\n",
       "      <td>0.21249</td>\n",
       "    </tr>\n",
       "    <tr>\n",
       "      <th>4</th>\n",
       "      <td>94</td>\n",
       "      <td>6</td>\n",
       "      <td>0.116080</td>\n",
       "      <td>0.240250</td>\n",
       "      <td>0.61854</td>\n",
       "      <td>0.18683</td>\n",
       "      <td>0.01027</td>\n",
       "      <td>0.27455</td>\n",
       "      <td>0.55266</td>\n",
       "      <td>0.27851</td>\n",
       "    </tr>\n",
       "    <tr>\n",
       "      <th>5</th>\n",
       "      <td>92</td>\n",
       "      <td>8</td>\n",
       "      <td>0.152080</td>\n",
       "      <td>0.227370</td>\n",
       "      <td>0.35479</td>\n",
       "      <td>0.13890</td>\n",
       "      <td>0.50591</td>\n",
       "      <td>0.22563</td>\n",
       "      <td>0.77035</td>\n",
       "      <td>0.22878</td>\n",
       "    </tr>\n",
       "    <tr>\n",
       "      <th>6</th>\n",
       "      <td>90</td>\n",
       "      <td>10</td>\n",
       "      <td>0.125830</td>\n",
       "      <td>0.261160</td>\n",
       "      <td>0.15486</td>\n",
       "      <td>0.15486</td>\n",
       "      <td>0.35259</td>\n",
       "      <td>0.25379</td>\n",
       "      <td>0.40259</td>\n",
       "      <td>0.23382</td>\n",
       "    </tr>\n",
       "    <tr>\n",
       "      <th>7</th>\n",
       "      <td>85</td>\n",
       "      <td>15</td>\n",
       "      <td>0.076589</td>\n",
       "      <td>0.013710</td>\n",
       "      <td>0.51905</td>\n",
       "      <td>0.00638</td>\n",
       "      <td>10.37405</td>\n",
       "      <td>0.21229</td>\n",
       "      <td>6.78347</td>\n",
       "      <td>0.10782</td>\n",
       "    </tr>\n",
       "    <tr>\n",
       "      <th>8</th>\n",
       "      <td>80</td>\n",
       "      <td>20</td>\n",
       "      <td>0.050620</td>\n",
       "      <td>0.053050</td>\n",
       "      <td>0.12270</td>\n",
       "      <td>0.11408</td>\n",
       "      <td>3.60825</td>\n",
       "      <td>0.01303</td>\n",
       "      <td>2.70918</td>\n",
       "      <td>0.05253</td>\n",
       "    </tr>\n",
       "    <tr>\n",
       "      <th>9</th>\n",
       "      <td>70</td>\n",
       "      <td>30</td>\n",
       "      <td>0.062620</td>\n",
       "      <td>0.098064</td>\n",
       "      <td>0.06139</td>\n",
       "      <td>0.11710</td>\n",
       "      <td>2.11649</td>\n",
       "      <td>0.07130</td>\n",
       "      <td>1.59176</td>\n",
       "      <td>0.10966</td>\n",
       "    </tr>\n",
       "    <tr>\n",
       "      <th>10</th>\n",
       "      <td>0</td>\n",
       "      <td>100</td>\n",
       "      <td>0.038190</td>\n",
       "      <td>0.092150</td>\n",
       "      <td>0.24748</td>\n",
       "      <td>0.01603</td>\n",
       "      <td>2.33795</td>\n",
       "      <td>0.00597</td>\n",
       "      <td>0.86120</td>\n",
       "      <td>0.04735</td>\n",
       "    </tr>\n",
       "  </tbody>\n",
       "</table>\n",
       "</div>"
      ],
      "text/plain": [
       "      M    P  SENSOR 1  SENSOR 2  SENSOR 3  SENSOR 4  SENSOR 5  SENSOR 6  \\\n",
       "0   100    0  2.794920  0.697810   3.28598   1.32697   0.28424   1.45367   \n",
       "1    98    2  0.101830  0.273910   0.39414   0.16561   0.51281   0.23676   \n",
       "2    96    4  0.133430  0.167670   0.53161   0.16116   0.29535   0.24654   \n",
       "3    95    5  0.148940  0.211170   0.50989   0.12105   0.64315   0.22343   \n",
       "4    94    6  0.116080  0.240250   0.61854   0.18683   0.01027   0.27455   \n",
       "5    92    8  0.152080  0.227370   0.35479   0.13890   0.50591   0.22563   \n",
       "6    90   10  0.125830  0.261160   0.15486   0.15486   0.35259   0.25379   \n",
       "7    85   15  0.076589  0.013710   0.51905   0.00638  10.37405   0.21229   \n",
       "8    80   20  0.050620  0.053050   0.12270   0.11408   3.60825   0.01303   \n",
       "9    70   30  0.062620  0.098064   0.06139   0.11710   2.11649   0.07130   \n",
       "10    0  100  0.038190  0.092150   0.24748   0.01603   2.33795   0.00597   \n",
       "\n",
       "    SENSOR 7  SENSOR 8  \n",
       "0    0.58745   1.68367  \n",
       "1    0.37418   0.22437  \n",
       "2    0.48047   0.24632  \n",
       "3    0.86366   0.21249  \n",
       "4    0.55266   0.27851  \n",
       "5    0.77035   0.22878  \n",
       "6    0.40259   0.23382  \n",
       "7    6.78347   0.10782  \n",
       "8    2.70918   0.05253  \n",
       "9    1.59176   0.10966  \n",
       "10   0.86120   0.04735  "
      ]
     },
     "execution_count": 3,
     "metadata": {},
     "output_type": "execute_result"
    }
   ],
   "source": [
    "df"
   ]
  },
  {
   "cell_type": "code",
   "execution_count": 17,
   "id": "0062fce8",
   "metadata": {},
   "outputs": [],
   "source": [
    "train_df = df.iloc[:6]\n",
    "test_df = df.iloc[6:]\n",
    "\n",
    "X_train = train_df[['M', 'P']]\n",
    "sensor_columns = ['SENSOR 2']\n",
    "# sensor_columns = ['SENSOR 1', 'SENSOR 2', 'SENSOR 3', 'SENSOR 4', 'SENSOR 5', 'SENSOR 6', 'SENSOR 7', 'SENSOR 8']\n",
    "y_train = train_df[sensor_columns].values.ravel()\n",
    "\n",
    "X_test = test_df[['M', 'P']]\n",
    "y_test = test_df[sensor_columns].values.ravel()"
   ]
  },
  {
   "cell_type": "code",
   "execution_count": 18,
   "id": "ebad852f",
   "metadata": {},
   "outputs": [
    {
     "data": {
      "text/plain": [
       "array([0.69781, 0.27391, 0.16767, 0.21117, 0.24025, 0.22737])"
      ]
     },
     "execution_count": 18,
     "metadata": {},
     "output_type": "execute_result"
    }
   ],
   "source": [
    "y_train\n"
   ]
  },
  {
   "cell_type": "code",
   "execution_count": 19,
   "id": "2b70d0bf",
   "metadata": {},
   "outputs": [
    {
     "data": {
      "text/html": [
       "<style>#sk-container-id-3 {color: black;}#sk-container-id-3 pre{padding: 0;}#sk-container-id-3 div.sk-toggleable {background-color: white;}#sk-container-id-3 label.sk-toggleable__label {cursor: pointer;display: block;width: 100%;margin-bottom: 0;padding: 0.3em;box-sizing: border-box;text-align: center;}#sk-container-id-3 label.sk-toggleable__label-arrow:before {content: \"▸\";float: left;margin-right: 0.25em;color: #696969;}#sk-container-id-3 label.sk-toggleable__label-arrow:hover:before {color: black;}#sk-container-id-3 div.sk-estimator:hover label.sk-toggleable__label-arrow:before {color: black;}#sk-container-id-3 div.sk-toggleable__content {max-height: 0;max-width: 0;overflow: hidden;text-align: left;background-color: #f0f8ff;}#sk-container-id-3 div.sk-toggleable__content pre {margin: 0.2em;color: black;border-radius: 0.25em;background-color: #f0f8ff;}#sk-container-id-3 input.sk-toggleable__control:checked~div.sk-toggleable__content {max-height: 200px;max-width: 100%;overflow: auto;}#sk-container-id-3 input.sk-toggleable__control:checked~label.sk-toggleable__label-arrow:before {content: \"▾\";}#sk-container-id-3 div.sk-estimator input.sk-toggleable__control:checked~label.sk-toggleable__label {background-color: #d4ebff;}#sk-container-id-3 div.sk-label input.sk-toggleable__control:checked~label.sk-toggleable__label {background-color: #d4ebff;}#sk-container-id-3 input.sk-hidden--visually {border: 0;clip: rect(1px 1px 1px 1px);clip: rect(1px, 1px, 1px, 1px);height: 1px;margin: -1px;overflow: hidden;padding: 0;position: absolute;width: 1px;}#sk-container-id-3 div.sk-estimator {font-family: monospace;background-color: #f0f8ff;border: 1px dotted black;border-radius: 0.25em;box-sizing: border-box;margin-bottom: 0.5em;}#sk-container-id-3 div.sk-estimator:hover {background-color: #d4ebff;}#sk-container-id-3 div.sk-parallel-item::after {content: \"\";width: 100%;border-bottom: 1px solid gray;flex-grow: 1;}#sk-container-id-3 div.sk-label:hover label.sk-toggleable__label {background-color: #d4ebff;}#sk-container-id-3 div.sk-serial::before {content: \"\";position: absolute;border-left: 1px solid gray;box-sizing: border-box;top: 0;bottom: 0;left: 50%;z-index: 0;}#sk-container-id-3 div.sk-serial {display: flex;flex-direction: column;align-items: center;background-color: white;padding-right: 0.2em;padding-left: 0.2em;position: relative;}#sk-container-id-3 div.sk-item {position: relative;z-index: 1;}#sk-container-id-3 div.sk-parallel {display: flex;align-items: stretch;justify-content: center;background-color: white;position: relative;}#sk-container-id-3 div.sk-item::before, #sk-container-id-3 div.sk-parallel-item::before {content: \"\";position: absolute;border-left: 1px solid gray;box-sizing: border-box;top: 0;bottom: 0;left: 50%;z-index: -1;}#sk-container-id-3 div.sk-parallel-item {display: flex;flex-direction: column;z-index: 1;position: relative;background-color: white;}#sk-container-id-3 div.sk-parallel-item:first-child::after {align-self: flex-end;width: 50%;}#sk-container-id-3 div.sk-parallel-item:last-child::after {align-self: flex-start;width: 50%;}#sk-container-id-3 div.sk-parallel-item:only-child::after {width: 0;}#sk-container-id-3 div.sk-dashed-wrapped {border: 1px dashed gray;margin: 0 0.4em 0.5em 0.4em;box-sizing: border-box;padding-bottom: 0.4em;background-color: white;}#sk-container-id-3 div.sk-label label {font-family: monospace;font-weight: bold;display: inline-block;line-height: 1.2em;}#sk-container-id-3 div.sk-label-container {text-align: center;}#sk-container-id-3 div.sk-container {/* jupyter's `normalize.less` sets `[hidden] { display: none; }` but bootstrap.min.css set `[hidden] { display: none !important; }` so we also need the `!important` here to be able to override the default hidden behavior on the sphinx rendered scikit-learn.org. See: https://github.com/scikit-learn/scikit-learn/issues/21755 */display: inline-block !important;position: relative;}#sk-container-id-3 div.sk-text-repr-fallback {display: none;}</style><div id=\"sk-container-id-3\" class=\"sk-top-container\"><div class=\"sk-text-repr-fallback\"><pre>SVR()</pre><b>In a Jupyter environment, please rerun this cell to show the HTML representation or trust the notebook. <br />On GitHub, the HTML representation is unable to render, please try loading this page with nbviewer.org.</b></div><div class=\"sk-container\" hidden><div class=\"sk-item\"><div class=\"sk-estimator sk-toggleable\"><input class=\"sk-toggleable__control sk-hidden--visually\" id=\"sk-estimator-id-3\" type=\"checkbox\" checked><label for=\"sk-estimator-id-3\" class=\"sk-toggleable__label sk-toggleable__label-arrow\">SVR</label><div class=\"sk-toggleable__content\"><pre>SVR()</pre></div></div></div></div></div>"
      ],
      "text/plain": [
       "SVR()"
      ]
     },
     "execution_count": 19,
     "metadata": {},
     "output_type": "execute_result"
    }
   ],
   "source": [
    "model = SVR()\n",
    "\n",
    "# Train the model\n",
    "model.fit(X_train, y_train)"
   ]
  },
  {
   "cell_type": "code",
   "execution_count": 20,
   "id": "2eba322c",
   "metadata": {},
   "outputs": [
    {
     "data": {
      "text/plain": [
       "array([0.26945587, 0.25339739, 0.24036967, 0.22569595, 0.29494204])"
      ]
     },
     "execution_count": 20,
     "metadata": {},
     "output_type": "execute_result"
    }
   ],
   "source": [
    "predictions = model.predict(X_test)\n",
    "predictions"
   ]
  },
  {
   "cell_type": "code",
   "execution_count": 21,
   "id": "8aacc37d",
   "metadata": {},
   "outputs": [
    {
     "name": "stdout",
     "output_type": "stream",
     "text": [
      "Mean Squared Error: 0.03000440957329544\n"
     ]
    }
   ],
   "source": [
    "mse = mean_squared_error(y_test, predictions)  # Choose the same sensor column for evaluation\n",
    "print(f\"Mean Squared Error: {mse}\")"
   ]
  },
  {
   "cell_type": "code",
   "execution_count": 22,
   "id": "a140f8e7",
   "metadata": {},
   "outputs": [],
   "source": [
    "# # Calculate Mahalanobis distance for each point\n",
    "cov_matrix = np.cov(X_train.values, rowvar=False)\n",
    "inv_cov_matrix = np.linalg.inv(cov_matrix)\n",
    "\n",
    "mahalanobis_distances = []\n",
    "for i in range(len(X_test)):\n",
    "    mahalanobis_distance = distance.mahalanobis(X_test.iloc[i], X_train.mean().values, inv_cov_matrix)\n",
    "    mahalanobis_distances.append(mahalanobis_distance)"
   ]
  },
  {
   "cell_type": "code",
   "execution_count": 23,
   "id": "9de0e895",
   "metadata": {},
   "outputs": [
    {
     "data": {
      "text/plain": [
       "[2.0623947784607606,\n",
       " 3.8301617314271312,\n",
       " 5.5979286843935,\n",
       " 9.133462590326237,\n",
       " 33.8821999318554]"
      ]
     },
     "execution_count": 23,
     "metadata": {},
     "output_type": "execute_result"
    }
   ],
   "source": [
    "mahalanobis_distances"
   ]
  },
  {
   "cell_type": "code",
   "execution_count": null,
   "id": "0758b3d7",
   "metadata": {},
   "outputs": [],
   "source": []
  },
  {
   "cell_type": "code",
   "execution_count": null,
   "id": "d4d129b5",
   "metadata": {},
   "outputs": [],
   "source": []
  },
  {
   "cell_type": "code",
   "execution_count": null,
   "id": "9f2d7f2c",
   "metadata": {},
   "outputs": [],
   "source": []
  },
  {
   "cell_type": "code",
   "execution_count": null,
   "id": "ea4a1435",
   "metadata": {},
   "outputs": [],
   "source": []
  }
 ],
 "metadata": {
  "kernelspec": {
   "display_name": "Python 3 (ipykernel)",
   "language": "python",
   "name": "python3"
  },
  "language_info": {
   "codemirror_mode": {
    "name": "ipython",
    "version": 3
   },
   "file_extension": ".py",
   "mimetype": "text/x-python",
   "name": "python",
   "nbconvert_exporter": "python",
   "pygments_lexer": "ipython3",
   "version": "3.11.3"
  }
 },
 "nbformat": 4,
 "nbformat_minor": 5
}
